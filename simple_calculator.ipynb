{
 "cells": [
  {
   "cell_type": "markdown",
   "metadata": {},
   "source": [
    "# Program sederhana kalkulator"
   ]
  },
  {
   "cell_type": "code",
   "execution_count": null,
   "metadata": {},
   "outputs": [
    {
     "name": "stdout",
     "output_type": "stream",
     "text": [
      "Pilih Operator Aritmatika\n",
      "1. Penjumlahan\n",
      "2. Pengurangan\n",
      "3. Perkalian\n",
      "4. Pembagian\n",
      "Pilih Operator Aritmatika (1/2/3/4): 1\n",
      "masukkan angka pertama: 3\n",
      "masukkan angka kedua: 7\n",
      "3.0 + 7.0 = 10.0\n",
      "Pilih Operator Aritmatika (1/2/3/4): 2\n",
      "masukkan angka pertama: 21\n",
      "masukkan angka kedua: 7\n",
      "21.0 - 7.0 = 14.0\n",
      "Pilih Operator Aritmatika (1/2/3/4): 13\n",
      "masukan tidak valid\n",
      "Pilih Operator Aritmatika (1/2/3/4): 6\n",
      "masukan tidak valid\n",
      "Pilih Operator Aritmatika (1/2/3/4): 3\n",
      "masukkan angka pertama: 13\n",
      "masukkan angka kedua: 6\n",
      "13.0 * 6.0 = 78.0\n",
      "Pilih Operator Aritmatika (1/2/3/4): 76\n",
      "masukan tidak valid\n",
      "Pilih Operator Aritmatika (1/2/3/4): 4\n",
      "masukkan angka pertama: 72\n",
      "masukkan angka kedua: 8\n",
      "72.0 / 8.0 = 9.0\n"
     ]
    }
   ],
   "source": [
    "# fungsi penjumlahan\n",
    "def tambah(x, y):\n",
    "    return x + y\n",
    "\n",
    "# fungsi pengurangan\n",
    "def kurang(x, y):\n",
    "    return x - y\n",
    "\n",
    "# fungsi perkalian\n",
    "def kali(x, y):\n",
    "    return x * y\n",
    "\n",
    "# fungsi pembagian\n",
    "def bagi(x, y):\n",
    "    return x / y\n",
    "\n",
    "print(\"Pilih Operator Aritmatika\")\n",
    "print(\"1. Penjumlahan\")\n",
    "print(\"2. Pengurangan\")\n",
    "print(\"3. Perkalian\")\n",
    "print(\"4. Pembagian\")\n",
    "\n",
    "while True:\n",
    "    # ambil operasi yang diinginkan user\n",
    "    pilihan = input(\"Pilih Operator Aritmatika (1/2/3/4): \")\n",
    "    \n",
    "    # cek pilihan user\n",
    "    if pilihan in ('1', '2', '3', '4'):\n",
    "        angka1 = float(input(\"masukkan angka pertama: \"))\n",
    "        angka2 = float(input(\"masukkan angka kedua: \"))\n",
    "        \n",
    "        if pilihan == '1':\n",
    "            print(angka1, \"+\", angka2, \"=\", tambah(angka1, angka2))\n",
    "        \n",
    "        elif pilihan == '2':\n",
    "            print(angka1, \"-\", angka2, \"=\", kurang(angka1, angka2))\n",
    "            \n",
    "        elif pilihan == '3':\n",
    "            print(angka1, \"*\", angka2, \"=\", kali(angka1, angka2))\n",
    "            \n",
    "        elif pilihan == '4':\n",
    "            print(angka1, \"/\", angka2, \"=\", bagi(angka1, angka2))\n",
    "        \n",
    "        # break # kalau ingin menghentikan proses\n",
    "    \n",
    "    else:\n",
    "        print(\"masukan tidak valid\")"
   ]
  }
 ],
 "metadata": {
  "kernelspec": {
   "display_name": "Python 3",
   "language": "python",
   "name": "python3"
  },
  "language_info": {
   "codemirror_mode": {
    "name": "ipython",
    "version": 3
   },
   "file_extension": ".py",
   "mimetype": "text/x-python",
   "name": "python",
   "nbconvert_exporter": "python",
   "pygments_lexer": "ipython3",
   "version": "3.7.4"
  }
 },
 "nbformat": 4,
 "nbformat_minor": 2
}
